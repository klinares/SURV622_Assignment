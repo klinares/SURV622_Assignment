{
 "cells": [
  {
   "cell_type": "code",
   "execution_count": null,
   "metadata": {},
   "outputs": [],
   "source": [
    "# Step 1: Install Required Libraries\n",
    "%pip install torch torchvision torchaudio --index-url https://download.pytorch.org/whl/cu126 \n",
    "%pip install -U transformers\n",
    "%pip install -U accelerate\n",
    "%pip install pandas openpyxl tqdm huggingface_hub"
   ]
  },
  {
   "cell_type": "code",
   "execution_count": null,
   "metadata": {},
   "outputs": [],
   "source": [
    "# Step 2: Import Libraries and Initialize\n",
    "import pandas as pd\n",
    "from tqdm import tqdm\n",
    "from transformers import AutoModelForCausalLM, AutoTokenizer\n",
    "from huggingface_hub import login\n",
    "from IPython.display import clear_output\n",
    "\n",
    "with open(\"/home/felbasa/token.txt\", \"r\") as token_file:\n",
    "    token = token_file.read().strip()\n",
    "\n",
    "login(token=token)\n",
    "\n",
    "device = \"cuda\"\n",
    "\n",
    "clear_output()"
   ]
  },
  {
   "cell_type": "code",
   "execution_count": null,
   "metadata": {},
   "outputs": [],
   "source": [
    "# Step 3: Load the Data\n",
    "stance = pd.read_excel(\"data/comments_to_code/merged_codes.xlsx\")\n",
    "stance[\"comment\"] = stance[\"comment\"].str.replace(\"#SemST\", \"\", regex=False)"
   ]
  },
  {
   "cell_type": "code",
   "execution_count": null,
   "metadata": {},
   "outputs": [],
   "source": [
    "\n",
    "# Step 4: Load the Model and Tokenizer\n",
    "model_name = \"google/gemma-3-12b-it\"\n",
    "tokenizer = AutoTokenizer.from_pretrained(model_name)\n",
    "model = AutoModelForCausalLM.from_pretrained(model_name, device_map=\"auto\")\n",
    "\n",
    "clear_output()"
   ]
  },
  {
   "cell_type": "code",
   "execution_count": null,
   "metadata": {},
   "outputs": [],
   "source": [
    "\n",
    "# Step 5: Define Prompt Template\n",
    "instructions = (\n",
    "    \"Instruction: You have assumed the role of a stakeholder that is presented \"\n",
    "    \"with a reddit comment from likely federal workers related to the current policies \"\n",
    "    \"on reducing the federal workforce. Please determine the author of the comment's stance \"\n",
    "    \"on this topic, and only provide the answer.\"\n",
    ")\n",
    "\n",
    "prompt_template = (\n",
    "    \"Is this comment in 'favor', 'neutral', or 'oppose' the reduction in federal workforce? \"\n",
    "    \"Provide one word answer only!\\n\\nComment: {comment}\"\n",
    ")"
   ]
  },
  {
   "cell_type": "code",
   "execution_count": null,
   "metadata": {},
   "outputs": [],
   "source": [
    "\n",
    "# Step 6: Run Inference\n",
    "tqdm.pandas()\n",
    "stance[\"LLM_stance\"] = \"\"\n",
    "\n",
    "for i, row in stance.iterrows():\n",
    "    comment = row[\"comment\"]\n",
    "    \n",
    "    prompt = [\n",
    "        {\n",
    "            \"role\": \"system\",\n",
    "            \"content\": [{\"type\": \"text\", \"text\": instructions}],\n",
    "        },\n",
    "        {\n",
    "            \"role\": \"user\",\n",
    "            \"content\": [\n",
    "                {\"type\": \"text\", \"text\": prompt_template.format(comment=comment)}\n",
    "            ],\n",
    "        },\n",
    "    ]\n",
    "    \n",
    "    inputs = tokenizer.apply_chat_template(\n",
    "        prompt, tokenize=True, add_generation_prompt=True, return_tensors=\"pt\"\n",
    "    ).to(device)\n",
    "\n",
    "    with torch.no_grad():\n",
    "        output = model.generate(inputs, max_length=50, num_return_sequences=1)\n",
    "\n",
    "    result = tokenizer.decode(output[0], skip_special_tokens=True)\n",
    "    stance.at[i, \"LLM_stance\"] = result.strip().split()[-1].lower()\n",
    "\n",
    "clear_output()"
   ]
  },
  {
   "cell_type": "code",
   "execution_count": null,
   "metadata": {},
   "outputs": [],
   "source": [
    "# Step 7: Save the Result\n",
    "stance.to_excel(\"outputs/reddit_comments_LLM_analysis.xlsx\", index=False)\n",
    "print(\"Stance detection complete. Results saved to 'outputs/reddit_comments_LLM_analysis.xlsx'\")\n"
   ]
  }
 ],
 "metadata": {
  "language_info": {
   "name": "python"
  }
 },
 "nbformat": 4,
 "nbformat_minor": 2
}
