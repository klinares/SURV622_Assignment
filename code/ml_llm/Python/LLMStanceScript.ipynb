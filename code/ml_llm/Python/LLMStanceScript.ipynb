{
 "cells": [
  {
   "cell_type": "code",
   "execution_count": null,
   "metadata": {},
   "outputs": [],
   "source": [
    "# Step 1: Install Required Libraries\n",
    "%pip install torch torchvision torchaudio --index-url https://download.pytorch.org/whl/cu126 \n",
    "%pip install -U transformers\n",
    "%pip install -U accelerate\n",
    "%pip install pandas openpyxl tqdm huggingface_hub"
   ]
  },
  {
   "cell_type": "code",
   "execution_count": null,
   "metadata": {},
   "outputs": [],
   "source": [
    "# Force Python to ignore system packages\n",
    "import sys\n",
    "user_site = '/home/felbasa/.local/lib/python3.9/site-packages'\n",
    "if user_site not in sys.path:\n",
    "    sys.path.insert(0, user_site)\n",
    "\n",
    "# Step 2: Reload typing_extensions from user site forcibly\n",
    "import importlib\n",
    "import types\n",
    "\n",
    "# Delete any previously loaded typing_extensions module (system one)\n",
    "if 'typing_extensions' in sys.modules:\n",
    "    del sys.modules['typing_extensions']\n",
    "\n",
    "# Re-import it from user path\n",
    "typing_extensions = importlib.import_module(\"typing_extensions\")\n",
    "assert hasattr(typing_extensions, \"deprecated\"), \"Still loading the wrong typing_extensions!\"\n",
    "\n",
    "import pandas as pd\n",
    "from tqdm import tqdm\n",
    "from transformers import AutoModelForCausalLM, AutoTokenizer\n",
    "from huggingface_hub import login\n",
    "from IPython.display import clear_output\n",
    "\n",
    "# Step 4: Login to HF\n",
    "with open(\"/home/felbasa/token.txt\", \"r\") as token_file:\n",
    "    token = token_file.read().strip()\n",
    "\n",
    "login(token=token)\n",
    "\n",
    "device = \"cuda\"\n",
    "clear_output()"
   ]
  },
  {
   "cell_type": "code",
   "execution_count": null,
   "metadata": {},
   "outputs": [],
   "source": [
    "# Step 3: Load the Data\n",
    "stance = pd.read_excel(\"/home/felbasa/SURV622_Assignment/data/comments_to_code/merged_codes.xlsx\")\n",
    "stance[\"comment\"] = stance[\"comment\"].str.replace(\"#SemST\", \"\", regex=False)"
   ]
  },
  {
   "cell_type": "code",
   "execution_count": null,
   "metadata": {},
   "outputs": [],
   "source": [
    "# Step 4: Load the Model and Tokenizer\n",
    "model_name = \"google/gemma-3-12b-it\"\n",
    "tokenizer = AutoTokenizer.from_pretrained(model_name)\n",
    "model = AutoModelForCausalLM.from_pretrained(model_name, device_map=\"auto\")"
   ]
  },
  {
   "cell_type": "code",
   "execution_count": null,
   "metadata": {},
   "outputs": [],
   "source": [
    "# Step 5: Define Prompt Template\n",
    "instructions = (\n",
    "    \"Instruction: You have assumed the role of a stakeholder that is presented \"\n",
    "    \"with a reddit comment from likely federal workers related to the current policies \"\n",
    "    \"on reducing the federal workforce. Please determine the author of the comment's stance \"\n",
    "    \"on this topic, and only provide the answer.\"\n",
    ")\n",
    "\n",
    "prompt_template = (\n",
    "    \"Is this comment in 'favor', 'neutral', or 'oppose' the reduction in federal workforce? \"\n",
    "    \"Provide one word answer only!\\n\\nComment: {comment}\"\n",
    ")"
   ]
  },
  {
   "cell_type": "code",
   "execution_count": null,
   "metadata": {},
   "outputs": [],
   "source": [
    "\n",
    "# Step 6: Run Inference\n",
    "import torch\n",
    "tqdm.pandas()\n",
    "stance[\"LLM_stance\"] = \"\"\n",
    "\n",
    "for i, row in stance.iterrows():\n",
    "    comment = row[\"comment\"]\n",
    "    \n",
    "    prompt = [\n",
    "        {\n",
    "            \"role\": \"system\",\n",
    "            \"content\": [{\"type\": \"text\", \"text\": instructions}],\n",
    "        },\n",
    "        {\n",
    "            \"role\": \"user\",\n",
    "            \"content\": [\n",
    "                {\"type\": \"text\", \"text\": prompt_template.format(comment=comment)}\n",
    "            ],\n",
    "        },\n",
    "    ]\n",
    "    \n",
    "    inputs = tokenizer.apply_chat_template(\n",
    "        prompt, tokenize=True, add_generation_prompt=True, return_tensors=\"pt\"\n",
    "    ).to(device)\n",
    "\n",
    "    with torch.no_grad():\n",
    "        output = model.generate(inputs, max_length=500, num_return_sequences=1)\n",
    "\n",
    "    result = tokenizer.decode(output[0], skip_special_tokens=True)\n",
    "    stance.at[i, \"LLM_stance\"] = result.strip().split()[-1].lower()"
   ]
  },
  {
   "cell_type": "code",
   "execution_count": null,
   "metadata": {},
   "outputs": [],
   "source": [
    "stance.head()"
   ]
  },
  {
   "cell_type": "code",
   "execution_count": null,
   "metadata": {},
   "outputs": [],
   "source": [
    "# Step 7: Save the Result\n",
    "import os\n",
    "\n",
    "# Define the path where you want to save the file\n",
    "output_path = \"/home/felbasa/SURV622_Assignment/data/reddit_comments_LLM_analysis.csv\"\n",
    "\n",
    "# Create the directory if it doesn't exist\n",
    "os.makedirs(os.path.dirname(output_path), exist_ok=True)\n",
    "\n",
    "# Save the DataFrame to a CSV file\n",
    "stance.to_csv(output_path, index=False)\n",
    "print(f\"Stance detection complete. Results saved to '{output_path}'\")"
   ]
  }
 ],
 "metadata": {
  "language_info": {
   "name": "python"
  }
 },
 "nbformat": 4,
 "nbformat_minor": 2
}
